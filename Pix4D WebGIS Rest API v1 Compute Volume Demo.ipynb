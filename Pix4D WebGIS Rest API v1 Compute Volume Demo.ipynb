{
 "cells": [
  {
   "cell_type": "code",
   "execution_count": null,
   "metadata": {},
   "outputs": [],
   "source": [
    "import os\n",
    "from typing import Dict, Optional\n",
    "import requests\n",
    "from common.pix4d_libs import get_jwt"
   ]
  },
  {
   "cell_type": "code",
   "execution_count": null,
   "metadata": {},
   "outputs": [],
   "source": [
    "PIX4D_CLIENT_ID = os.environ['PIX4D_CLIENT_ID']\n",
    "PIX4D_CLIENT_SECRET = os.environ['PIX4D_CLIENT_SECRET']\n",
    "assert PIX4D_CLIENT_ID\n",
    "assert PIX4D_CLIENT_SECRET"
   ]
  },
  {
   "cell_type": "code",
   "execution_count": null,
   "metadata": {},
   "outputs": [],
   "source": [
    "my_jwt = get_jwt(PIX4D_CLIENT_ID, PIX4D_CLIENT_SECRET)"
   ]
  },
  {
   "cell_type": "code",
   "execution_count": null,
   "metadata": {},
   "outputs": [],
   "source": [
    "print(my_jwt)"
   ]
  },
  {
   "cell_type": "code",
   "execution_count": null,
   "metadata": {
    "pycharm": {
     "name": "#%%\n"
    }
   },
   "outputs": [],
   "source": [
    "# This is one of the demo projects:\n",
    "# https://cloud.pix4d.com/dataset/256164/map?shareToken=97a07d231fbc47b1b105d6cc7bcab0a4\n",
    "project_id = 256164"
   ]
  },
  {
   "cell_type": "code",
   "execution_count": null,
   "metadata": {
    "pycharm": {
     "name": "#%%\n"
    }
   },
   "outputs": [],
   "source": [
    "POLYGON_VERTICES = {\n",
    "\t\"coordinates\": [\n",
    "\t\t[311657.79971329065, 5169833.334200535, 581.933837890625],\n",
    "\t\t[311546.84381518175, 5169648.419178826, 575.7460327148438],\n",
    "\t\t[311258.86775736854, 5169793.3999309335, 613.5560302734375],\n",
    "\t\t[311351.5671157668, 5169972.325227188, 597.9379272460938]\n",
    "\t]\n",
    "}"
   ]
  },
  {
   "cell_type": "code",
   "execution_count": null,
   "metadata": {
    "pycharm": {
     "name": "#%%\n"
    }
   },
   "outputs": [],
   "source": [
    "def compute_volume(project_id: int, token: str, base_surface: str,\n",
    "                   custom_elevation: Optional[Dict[str, float]] = None) -> Dict[str, float]:\n",
    "    print(f\"Computing volume for project {project_id}.\")\n",
    "    url = f\"https://api.webgis.pix4d.com/v1/projects/{project_id}/volumes\"\n",
    "    request_body = {\"base_surface\": base_surface}\n",
    "    request_body.update(POLYGON_VERTICES)\n",
    "    if custom_elevation:\n",
    "        request_body.update(custom_elevation)\n",
    "\n",
    "    response = requests.post(\n",
    "        url,\n",
    "        headers={\"Authorization\": f\"Bearer {token}\"},\n",
    "        json=request_body,\n",
    "    )\n",
    "    response.raise_for_status()\n",
    "\n",
    "    data = response.json()\n",
    "    print(f\"Computed volume for project {project_id}.\")\n",
    "\n",
    "    return data"
   ]
  },
  {
   "cell_type": "code",
   "execution_count": null,
   "metadata": {
    "pycharm": {
     "name": "#%%\n"
    }
   },
   "outputs": [],
   "source": [
    "volume_triangulated_base_surface = compute_volume(project_id, my_jwt, \"triangulated\")"
   ]
  },
  {
   "cell_type": "code",
   "execution_count": null,
   "metadata": {
    "pycharm": {
     "name": "#%%\n"
    }
   },
   "outputs": [],
   "source": [
    "volume_triangulated_base_surface"
   ]
  },
  {
   "cell_type": "code",
   "execution_count": null,
   "metadata": {
    "pycharm": {
     "name": "#%%\n"
    }
   },
   "outputs": [],
   "source": [
    "volume_custom_base_surface = compute_volume(project_id, my_jwt, \"custom\", {\"custom_elevation\": 40.0})"
   ]
  },
  {
   "cell_type": "code",
   "execution_count": null,
   "metadata": {
    "pycharm": {
     "name": "#%%\n"
    }
   },
   "outputs": [],
   "source": [
    "volume_custom_base_surface"
   ]
  },
  {
   "cell_type": "code",
   "execution_count": null,
   "metadata": {},
   "outputs": [],
   "source": []
  }
 ],
 "metadata": {
  "kernelspec": {
   "display_name": "Python 3",
   "language": "python",
   "name": "python3"
  },
  "language_info": {
   "codemirror_mode": {
    "name": "ipython",
    "version": 3
   },
   "file_extension": ".py",
   "mimetype": "text/x-python",
   "name": "python",
   "nbconvert_exporter": "python",
   "pygments_lexer": "ipython3",
   "version": "3.6.9"
  }
 },
 "nbformat": 4,
 "nbformat_minor": 2
}
