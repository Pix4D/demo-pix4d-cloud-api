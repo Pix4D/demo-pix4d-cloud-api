{
 "cells": [
  {
   "cell_type": "code",
   "execution_count": null,
   "metadata": {},
   "outputs": [],
   "source": [
    "import os\n",
    "import boto3\n",
    "from progressbar import ProgressBar\n",
    "from random import randint\n",
    "from pathlib import Path\n",
    "from common.pix4d_libs import get_jwt, create_project, project_s3_creds, register_images, start_processing, get_project"
   ]
  },
  {
   "cell_type": "code",
   "execution_count": null,
   "metadata": {},
   "outputs": [],
   "source": [
    "PIX4D_CLIENT_ID = os.environ['PIX4D_CLIENT_ID']\n",
    "PIX4D_CLIENT_SECRET = os.environ['PIX4D_CLIENT_SECRET']\n",
    "assert PIX4D_CLIENT_ID\n",
    "assert PIX4D_CLIENT_SECRET"
   ]
  },
  {
   "cell_type": "code",
   "execution_count": null,
   "metadata": {},
   "outputs": [],
   "source": [
    "my_jwt = get_jwt(PIX4D_CLIENT_ID, PIX4D_CLIENT_SECRET)"
   ]
  },
  {
   "cell_type": "code",
   "execution_count": null,
   "metadata": {},
   "outputs": [],
   "source": [
    "print(my_jwt)"
   ]
  },
  {
   "cell_type": "code",
   "execution_count": null,
   "metadata": {},
   "outputs": [],
   "source": [
    "project_id = create_project(f'demo {randint(0, 1000)}', my_jwt)['id']"
   ]
  },
  {
   "cell_type": "code",
   "execution_count": null,
   "metadata": {},
   "outputs": [],
   "source": [
    "s3_creds = project_s3_creds(project_id, my_jwt)"
   ]
  },
  {
   "cell_type": "code",
   "execution_count": null,
   "metadata": {},
   "outputs": [],
   "source": [
    "s3_creds"
   ]
  },
  {
   "cell_type": "code",
   "execution_count": null,
   "metadata": {},
   "outputs": [],
   "source": [
    "s3_client = boto3.client('s3', \n",
    "                         aws_access_key_id=s3_creds['access_key'], \n",
    "                         aws_secret_access_key=s3_creds['secret_key'],\n",
    "                         aws_session_token=s3_creds['session_token'])"
   ]
  },
  {
   "cell_type": "code",
   "execution_count": null,
   "metadata": {},
   "outputs": [],
   "source": [
    "keys = []\n",
    "images = list(Path('images/').glob(\"*.JPG\"))\n",
    "with ProgressBar(max_value=len(images)) as pbar:\n",
    "    for i, image in enumerate(images):\n",
    "        k = str(Path(s3_creds['key']) / Path(image).name)\n",
    "        s3_client.put_object(\n",
    "            Bucket=s3_creds['bucket'], \n",
    "            Key=k, \n",
    "            Body=Path(image).read_bytes(),\n",
    "            ACL=\"bucket-owner-full-control\"\n",
    "        )\n",
    "        keys.append(k)\n",
    "        pbar.update(i)"
   ]
  },
  {
   "cell_type": "code",
   "execution_count": null,
   "metadata": {},
   "outputs": [],
   "source": [
    "keys"
   ]
  },
  {
   "cell_type": "code",
   "execution_count": null,
   "metadata": {},
   "outputs": [],
   "source": [
    "register_images(project_id, my_jwt, keys)"
   ]
  },
  {
   "cell_type": "code",
   "execution_count": null,
   "metadata": {},
   "outputs": [],
   "source": [
    "start_processing(project_id, my_jwt)"
   ]
  },
  {
   "cell_type": "code",
   "execution_count": null,
   "metadata": {},
   "outputs": [],
   "source": [
    "print(project_id)"
   ]
  },
  {
   "cell_type": "code",
   "execution_count": null,
   "metadata": {},
   "outputs": [],
   "source": [
    "print(get_project(project_id, my_jwt)['public_status'])"
   ]
  }
 ],
 "metadata": {
  "kernelspec": {
   "display_name": "Python 3",
   "language": "python",
   "name": "python3"
  },
  "language_info": {
   "codemirror_mode": {
    "name": "ipython",
    "version": 3
   },
   "file_extension": ".py",
   "mimetype": "text/x-python",
   "name": "python",
   "nbconvert_exporter": "python",
   "pygments_lexer": "ipython3",
   "version": "3.6.5"
  }
 },
 "nbformat": 4,
 "nbformat_minor": 2
}
