{
 "cells": [
  {
   "cell_type": "code",
   "execution_count": null,
   "metadata": {},
   "outputs": [],
   "source": [
    "import os\n",
    "import boto3\n",
    "from pathlib import Path\n",
    "from IPython.display import Image\n",
    "from common.pix4d_libs import get_jwt, get_outputs, project_s3_creds, get_s3_client"
   ]
  },
  {
   "cell_type": "code",
   "execution_count": null,
   "metadata": {},
   "outputs": [],
   "source": [
    "PIX4D_CLIENT_ID = os.environ['PIX4D_CLIENT_ID']\n",
    "PIX4D_CLIENT_SECRET = os.environ['PIX4D_CLIENT_SECRET']\n",
    "assert PIX4D_CLIENT_ID\n",
    "assert PIX4D_CLIENT_SECRET"
   ]
  },
  {
   "cell_type": "code",
   "execution_count": null,
   "metadata": {},
   "outputs": [],
   "source": [
    "my_jwt = get_jwt(PIX4D_CLIENT_ID, PIX4D_CLIENT_SECRET)"
   ]
  },
  {
   "cell_type": "code",
   "execution_count": null,
   "metadata": {},
   "outputs": [],
   "source": [
    "project_id = 568215"
   ]
  },
  {
   "cell_type": "code",
   "execution_count": null,
   "metadata": {},
   "outputs": [],
   "source": [
    "outputs = get_outputs(project_id, my_jwt)"
   ]
  },
  {
   "cell_type": "code",
   "execution_count": null,
   "metadata": {},
   "outputs": [],
   "source": [
    "print(outputs)"
   ]
  },
  {
   "cell_type": "code",
   "execution_count": null,
   "metadata": {},
   "outputs": [],
   "source": [
    "ortho_thumb = [i for i in outputs['outputs'] if i['result_type'] == 'ortho' and i['output_type'] == 'ortho_thumb']\n",
    "if ortho_thumb:\n",
    "    ortho_thumb = ortho_thumb[0]\n",
    "else:\n",
    "    print('Failed to find ortho')"
   ]
  },
  {
   "cell_type": "code",
   "execution_count": null,
   "metadata": {},
   "outputs": [],
   "source": [
    "s3_creds = project_s3_creds(project_id, my_jwt)"
   ]
  },
  {
   "cell_type": "code",
   "execution_count": null,
   "metadata": {},
   "outputs": [],
   "source": [
    "s3_client = get_s3_client(project_id, my_jwt)"
   ]
  },
  {
   "cell_type": "code",
   "execution_count": null,
   "metadata": {},
   "outputs": [],
   "source": [
    "local_file_name = 'ortho_thumb.png'\n",
    "s3_client.download_file(ortho_thumb['s3_bucket'], ortho_thumb['s3_key'], local_file_name)"
   ]
  },
  {
   "cell_type": "code",
   "execution_count": null,
   "metadata": {},
   "outputs": [],
   "source": [
    "Image(local_file_name)"
   ]
  }
 ],
 "metadata": {
  "kernelspec": {
   "display_name": "Python 3",
   "language": "python",
   "name": "python3"
  },
  "language_info": {
   "codemirror_mode": {
    "name": "ipython",
    "version": 3
   },
   "file_extension": ".py",
   "mimetype": "text/x-python",
   "name": "python",
   "nbconvert_exporter": "python",
   "pygments_lexer": "ipython3",
   "version": "3.6.5"
  }
 },
 "nbformat": 4,
 "nbformat_minor": 2
}
